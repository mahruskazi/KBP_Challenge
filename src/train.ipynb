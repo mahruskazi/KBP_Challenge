{
  "nbformat": 4,
  "nbformat_minor": 0,
  "metadata": {
    "colab": {
      "name": "train_2.ipynb",
      "provenance": [],
      "collapsed_sections": []
    },
    "kernelspec": {
      "name": "python3",
      "display_name": "Python 3"
    },
    "accelerator": "GPU",
    "widgets": {
      "application/vnd.jupyter.widget-state+json": {
        "baf7932bd1f745c1869ec3cf66975e39": {
          "model_module": "@jupyter-widgets/controls",
          "model_name": "HBoxModel",
          "state": {
            "_view_name": "HBoxView",
            "_dom_classes": [],
            "_model_name": "HBoxModel",
            "_view_module": "@jupyter-widgets/controls",
            "_model_module_version": "1.5.0",
            "_view_count": null,
            "_view_module_version": "1.5.0",
            "box_style": "",
            "layout": "IPY_MODEL_15cb308a16bb46e3a7d4ddfc76da591a",
            "_model_module": "@jupyter-widgets/controls",
            "children": [
              "IPY_MODEL_a84d113617ef451482dba68ef15f3ddc",
              "IPY_MODEL_07747d4a15c04c3ca0317c4caec71cfa"
            ]
          }
        },
        "15cb308a16bb46e3a7d4ddfc76da591a": {
          "model_module": "@jupyter-widgets/base",
          "model_name": "LayoutModel",
          "state": {
            "_view_name": "LayoutView",
            "grid_template_rows": null,
            "right": null,
            "justify_content": null,
            "_view_module": "@jupyter-widgets/base",
            "overflow": null,
            "_model_module_version": "1.2.0",
            "_view_count": null,
            "flex_flow": "row wrap",
            "width": "100%",
            "min_width": null,
            "border": null,
            "align_items": null,
            "bottom": null,
            "_model_module": "@jupyter-widgets/base",
            "top": null,
            "grid_column": null,
            "overflow_y": null,
            "overflow_x": null,
            "grid_auto_flow": null,
            "grid_area": null,
            "grid_template_columns": null,
            "flex": null,
            "_model_name": "LayoutModel",
            "justify_items": null,
            "grid_row": null,
            "max_height": null,
            "align_content": null,
            "visibility": null,
            "align_self": null,
            "height": null,
            "min_height": null,
            "padding": null,
            "grid_auto_rows": null,
            "grid_gap": null,
            "max_width": null,
            "order": null,
            "_view_module_version": "1.2.0",
            "grid_template_areas": null,
            "object_position": null,
            "object_fit": null,
            "grid_auto_columns": null,
            "margin": null,
            "display": "inline-flex",
            "left": null
          }
        },
        "a84d113617ef451482dba68ef15f3ddc": {
          "model_module": "@jupyter-widgets/controls",
          "model_name": "FloatProgressModel",
          "state": {
            "_view_name": "ProgressView",
            "style": "IPY_MODEL_91d2cfa8ce6f493a9cef6e5d32b7b40a",
            "_dom_classes": [],
            "description": "Validation sanity check: 100%",
            "_model_name": "FloatProgressModel",
            "bar_style": "info",
            "max": 1,
            "_view_module": "@jupyter-widgets/controls",
            "_model_module_version": "1.5.0",
            "value": 1,
            "_view_count": null,
            "_view_module_version": "1.5.0",
            "orientation": "horizontal",
            "min": 0,
            "description_tooltip": null,
            "_model_module": "@jupyter-widgets/controls",
            "layout": "IPY_MODEL_4b0d790a23c745bfb5829d1b9f6ad972"
          }
        },
        "07747d4a15c04c3ca0317c4caec71cfa": {
          "model_module": "@jupyter-widgets/controls",
          "model_name": "HTMLModel",
          "state": {
            "_view_name": "HTMLView",
            "style": "IPY_MODEL_c08eca0bc7874eac90b52ecbf0d8a7aa",
            "_dom_classes": [],
            "description": "",
            "_model_name": "HTMLModel",
            "placeholder": "​",
            "_view_module": "@jupyter-widgets/controls",
            "_model_module_version": "1.5.0",
            "value": " 10/10 [00:16&lt;00:00,  1.08it/s]",
            "_view_count": null,
            "_view_module_version": "1.5.0",
            "description_tooltip": null,
            "_model_module": "@jupyter-widgets/controls",
            "layout": "IPY_MODEL_12d3729445314ff7bdb734d38ca878e8"
          }
        },
        "91d2cfa8ce6f493a9cef6e5d32b7b40a": {
          "model_module": "@jupyter-widgets/controls",
          "model_name": "ProgressStyleModel",
          "state": {
            "_view_name": "StyleView",
            "_model_name": "ProgressStyleModel",
            "description_width": "initial",
            "_view_module": "@jupyter-widgets/base",
            "_model_module_version": "1.5.0",
            "_view_count": null,
            "_view_module_version": "1.2.0",
            "bar_color": null,
            "_model_module": "@jupyter-widgets/controls"
          }
        },
        "4b0d790a23c745bfb5829d1b9f6ad972": {
          "model_module": "@jupyter-widgets/base",
          "model_name": "LayoutModel",
          "state": {
            "_view_name": "LayoutView",
            "grid_template_rows": null,
            "right": null,
            "justify_content": null,
            "_view_module": "@jupyter-widgets/base",
            "overflow": null,
            "_model_module_version": "1.2.0",
            "_view_count": null,
            "flex_flow": null,
            "width": null,
            "min_width": null,
            "border": null,
            "align_items": null,
            "bottom": null,
            "_model_module": "@jupyter-widgets/base",
            "top": null,
            "grid_column": null,
            "overflow_y": null,
            "overflow_x": null,
            "grid_auto_flow": null,
            "grid_area": null,
            "grid_template_columns": null,
            "flex": "2",
            "_model_name": "LayoutModel",
            "justify_items": null,
            "grid_row": null,
            "max_height": null,
            "align_content": null,
            "visibility": null,
            "align_self": null,
            "height": null,
            "min_height": null,
            "padding": null,
            "grid_auto_rows": null,
            "grid_gap": null,
            "max_width": null,
            "order": null,
            "_view_module_version": "1.2.0",
            "grid_template_areas": null,
            "object_position": null,
            "object_fit": null,
            "grid_auto_columns": null,
            "margin": null,
            "display": null,
            "left": null
          }
        },
        "c08eca0bc7874eac90b52ecbf0d8a7aa": {
          "model_module": "@jupyter-widgets/controls",
          "model_name": "DescriptionStyleModel",
          "state": {
            "_view_name": "StyleView",
            "_model_name": "DescriptionStyleModel",
            "description_width": "",
            "_view_module": "@jupyter-widgets/base",
            "_model_module_version": "1.5.0",
            "_view_count": null,
            "_view_module_version": "1.2.0",
            "_model_module": "@jupyter-widgets/controls"
          }
        },
        "12d3729445314ff7bdb734d38ca878e8": {
          "model_module": "@jupyter-widgets/base",
          "model_name": "LayoutModel",
          "state": {
            "_view_name": "LayoutView",
            "grid_template_rows": null,
            "right": null,
            "justify_content": null,
            "_view_module": "@jupyter-widgets/base",
            "overflow": null,
            "_model_module_version": "1.2.0",
            "_view_count": null,
            "flex_flow": null,
            "width": null,
            "min_width": null,
            "border": null,
            "align_items": null,
            "bottom": null,
            "_model_module": "@jupyter-widgets/base",
            "top": null,
            "grid_column": null,
            "overflow_y": null,
            "overflow_x": null,
            "grid_auto_flow": null,
            "grid_area": null,
            "grid_template_columns": null,
            "flex": null,
            "_model_name": "LayoutModel",
            "justify_items": null,
            "grid_row": null,
            "max_height": null,
            "align_content": null,
            "visibility": null,
            "align_self": null,
            "height": null,
            "min_height": null,
            "padding": null,
            "grid_auto_rows": null,
            "grid_gap": null,
            "max_width": null,
            "order": null,
            "_view_module_version": "1.2.0",
            "grid_template_areas": null,
            "object_position": null,
            "object_fit": null,
            "grid_auto_columns": null,
            "margin": null,
            "display": null,
            "left": null
          }
        },
        "8ba7a7497ae84d708e3e32426d7116e3": {
          "model_module": "@jupyter-widgets/controls",
          "model_name": "HBoxModel",
          "state": {
            "_view_name": "HBoxView",
            "_dom_classes": [],
            "_model_name": "HBoxModel",
            "_view_module": "@jupyter-widgets/controls",
            "_model_module_version": "1.5.0",
            "_view_count": null,
            "_view_module_version": "1.5.0",
            "box_style": "",
            "layout": "IPY_MODEL_34dacb8c5ea245ada25599083f6c9355",
            "_model_module": "@jupyter-widgets/controls",
            "children": [
              "IPY_MODEL_ce2935cf4a504499974e10f4d639279f",
              "IPY_MODEL_64abe7682f064c168ba8fed06e26ef03"
            ]
          }
        },
        "34dacb8c5ea245ada25599083f6c9355": {
          "model_module": "@jupyter-widgets/base",
          "model_name": "LayoutModel",
          "state": {
            "_view_name": "LayoutView",
            "grid_template_rows": null,
            "right": null,
            "justify_content": null,
            "_view_module": "@jupyter-widgets/base",
            "overflow": null,
            "_model_module_version": "1.2.0",
            "_view_count": null,
            "flex_flow": "row wrap",
            "width": "100%",
            "min_width": null,
            "border": null,
            "align_items": null,
            "bottom": null,
            "_model_module": "@jupyter-widgets/base",
            "top": null,
            "grid_column": null,
            "overflow_y": null,
            "overflow_x": null,
            "grid_auto_flow": null,
            "grid_area": null,
            "grid_template_columns": null,
            "flex": null,
            "_model_name": "LayoutModel",
            "justify_items": null,
            "grid_row": null,
            "max_height": null,
            "align_content": null,
            "visibility": null,
            "align_self": null,
            "height": null,
            "min_height": null,
            "padding": null,
            "grid_auto_rows": null,
            "grid_gap": null,
            "max_width": null,
            "order": null,
            "_view_module_version": "1.2.0",
            "grid_template_areas": null,
            "object_position": null,
            "object_fit": null,
            "grid_auto_columns": null,
            "margin": null,
            "display": "inline-flex",
            "left": null
          }
        },
        "ce2935cf4a504499974e10f4d639279f": {
          "model_module": "@jupyter-widgets/controls",
          "model_name": "FloatProgressModel",
          "state": {
            "_view_name": "ProgressView",
            "style": "IPY_MODEL_fe53eda2cc994327bbc76ce333b1e42e",
            "_dom_classes": [],
            "description": "Epoch 1: 100%",
            "_model_name": "FloatProgressModel",
            "bar_style": "info",
            "max": 69,
            "_view_module": "@jupyter-widgets/controls",
            "_model_module_version": "1.5.0",
            "value": 69,
            "_view_count": null,
            "_view_module_version": "1.5.0",
            "orientation": "horizontal",
            "min": 0,
            "description_tooltip": null,
            "_model_module": "@jupyter-widgets/controls",
            "layout": "IPY_MODEL_06a1ded309b84d49add3830498f4c97b"
          }
        },
        "64abe7682f064c168ba8fed06e26ef03": {
          "model_module": "@jupyter-widgets/controls",
          "model_name": "HTMLModel",
          "state": {
            "_view_name": "HTMLView",
            "style": "IPY_MODEL_a6a474ba0a4e4e26bb45555a173c75f5",
            "_dom_classes": [],
            "description": "",
            "_model_name": "HTMLModel",
            "placeholder": "​",
            "_view_module": "@jupyter-widgets/controls",
            "_model_module_version": "1.5.0",
            "value": " 69/69 [06:55&lt;00:00,  6.02s/it, loss=1982.027, v_num=64bf7e3e1d854314b28b87091f9b4534, loss_G_GAN=6.83, loss_G_Feat=126, g_loss=133, loss_D_fake=34.2, loss_D_real=34.1, d_loss=68.3]",
            "_view_count": null,
            "_view_module_version": "1.5.0",
            "description_tooltip": null,
            "_model_module": "@jupyter-widgets/controls",
            "layout": "IPY_MODEL_a6a6da8ef4a04469bacc6ca941f7193b"
          }
        },
        "fe53eda2cc994327bbc76ce333b1e42e": {
          "model_module": "@jupyter-widgets/controls",
          "model_name": "ProgressStyleModel",
          "state": {
            "_view_name": "StyleView",
            "_model_name": "ProgressStyleModel",
            "description_width": "initial",
            "_view_module": "@jupyter-widgets/base",
            "_model_module_version": "1.5.0",
            "_view_count": null,
            "_view_module_version": "1.2.0",
            "bar_color": null,
            "_model_module": "@jupyter-widgets/controls"
          }
        },
        "06a1ded309b84d49add3830498f4c97b": {
          "model_module": "@jupyter-widgets/base",
          "model_name": "LayoutModel",
          "state": {
            "_view_name": "LayoutView",
            "grid_template_rows": null,
            "right": null,
            "justify_content": null,
            "_view_module": "@jupyter-widgets/base",
            "overflow": null,
            "_model_module_version": "1.2.0",
            "_view_count": null,
            "flex_flow": null,
            "width": null,
            "min_width": null,
            "border": null,
            "align_items": null,
            "bottom": null,
            "_model_module": "@jupyter-widgets/base",
            "top": null,
            "grid_column": null,
            "overflow_y": null,
            "overflow_x": null,
            "grid_auto_flow": null,
            "grid_area": null,
            "grid_template_columns": null,
            "flex": "2",
            "_model_name": "LayoutModel",
            "justify_items": null,
            "grid_row": null,
            "max_height": null,
            "align_content": null,
            "visibility": null,
            "align_self": null,
            "height": null,
            "min_height": null,
            "padding": null,
            "grid_auto_rows": null,
            "grid_gap": null,
            "max_width": null,
            "order": null,
            "_view_module_version": "1.2.0",
            "grid_template_areas": null,
            "object_position": null,
            "object_fit": null,
            "grid_auto_columns": null,
            "margin": null,
            "display": null,
            "left": null
          }
        },
        "a6a474ba0a4e4e26bb45555a173c75f5": {
          "model_module": "@jupyter-widgets/controls",
          "model_name": "DescriptionStyleModel",
          "state": {
            "_view_name": "StyleView",
            "_model_name": "DescriptionStyleModel",
            "description_width": "",
            "_view_module": "@jupyter-widgets/base",
            "_model_module_version": "1.5.0",
            "_view_count": null,
            "_view_module_version": "1.2.0",
            "_model_module": "@jupyter-widgets/controls"
          }
        },
        "a6a6da8ef4a04469bacc6ca941f7193b": {
          "model_module": "@jupyter-widgets/base",
          "model_name": "LayoutModel",
          "state": {
            "_view_name": "LayoutView",
            "grid_template_rows": null,
            "right": null,
            "justify_content": null,
            "_view_module": "@jupyter-widgets/base",
            "overflow": null,
            "_model_module_version": "1.2.0",
            "_view_count": null,
            "flex_flow": null,
            "width": null,
            "min_width": null,
            "border": null,
            "align_items": null,
            "bottom": null,
            "_model_module": "@jupyter-widgets/base",
            "top": null,
            "grid_column": null,
            "overflow_y": null,
            "overflow_x": null,
            "grid_auto_flow": null,
            "grid_area": null,
            "grid_template_columns": null,
            "flex": null,
            "_model_name": "LayoutModel",
            "justify_items": null,
            "grid_row": null,
            "max_height": null,
            "align_content": null,
            "visibility": null,
            "align_self": null,
            "height": null,
            "min_height": null,
            "padding": null,
            "grid_auto_rows": null,
            "grid_gap": null,
            "max_width": null,
            "order": null,
            "_view_module_version": "1.2.0",
            "grid_template_areas": null,
            "object_position": null,
            "object_fit": null,
            "grid_auto_columns": null,
            "margin": null,
            "display": null,
            "left": null
          }
        },
        "c0abc4089fb941d1bbc8ab6e3db08ec5": {
          "model_module": "@jupyter-widgets/controls",
          "model_name": "HBoxModel",
          "state": {
            "_view_name": "HBoxView",
            "_dom_classes": [],
            "_model_name": "HBoxModel",
            "_view_module": "@jupyter-widgets/controls",
            "_model_module_version": "1.5.0",
            "_view_count": null,
            "_view_module_version": "1.5.0",
            "box_style": "",
            "layout": "IPY_MODEL_5f088ed9d0654ad4b002606e07beaacb",
            "_model_module": "@jupyter-widgets/controls",
            "children": [
              "IPY_MODEL_25d026bababc4b83bbc29b1b1f60a578",
              "IPY_MODEL_60aeafcf7bab4026bf2a37ded33d0cb2"
            ]
          }
        },
        "5f088ed9d0654ad4b002606e07beaacb": {
          "model_module": "@jupyter-widgets/base",
          "model_name": "LayoutModel",
          "state": {
            "_view_name": "LayoutView",
            "grid_template_rows": null,
            "right": null,
            "justify_content": null,
            "_view_module": "@jupyter-widgets/base",
            "overflow": null,
            "_model_module_version": "1.2.0",
            "_view_count": null,
            "flex_flow": "row wrap",
            "width": "100%",
            "min_width": null,
            "border": null,
            "align_items": null,
            "bottom": null,
            "_model_module": "@jupyter-widgets/base",
            "top": null,
            "grid_column": null,
            "overflow_y": null,
            "overflow_x": null,
            "grid_auto_flow": null,
            "grid_area": null,
            "grid_template_columns": null,
            "flex": null,
            "_model_name": "LayoutModel",
            "justify_items": null,
            "grid_row": null,
            "max_height": null,
            "align_content": null,
            "visibility": null,
            "align_self": null,
            "height": null,
            "min_height": null,
            "padding": null,
            "grid_auto_rows": null,
            "grid_gap": null,
            "max_width": null,
            "order": null,
            "_view_module_version": "1.2.0",
            "grid_template_areas": null,
            "object_position": null,
            "object_fit": null,
            "grid_auto_columns": null,
            "margin": null,
            "display": "inline-flex",
            "left": null
          }
        },
        "25d026bababc4b83bbc29b1b1f60a578": {
          "model_module": "@jupyter-widgets/controls",
          "model_name": "FloatProgressModel",
          "state": {
            "_view_name": "ProgressView",
            "style": "IPY_MODEL_8713bcd8d8b74a0d91f60f729c64baa2",
            "_dom_classes": [],
            "description": "Validating: 100%",
            "_model_name": "FloatProgressModel",
            "bar_style": "info",
            "max": 1,
            "_view_module": "@jupyter-widgets/controls",
            "_model_module_version": "1.5.0",
            "value": 1,
            "_view_count": null,
            "_view_module_version": "1.5.0",
            "orientation": "horizontal",
            "min": 0,
            "description_tooltip": null,
            "_model_module": "@jupyter-widgets/controls",
            "layout": "IPY_MODEL_079e578e8d9a445e8267a5a13b65c79f"
          }
        },
        "60aeafcf7bab4026bf2a37ded33d0cb2": {
          "model_module": "@jupyter-widgets/controls",
          "model_name": "HTMLModel",
          "state": {
            "_view_name": "HTMLView",
            "style": "IPY_MODEL_088daed038c243e19bb91b6aafec2fa4",
            "_dom_classes": [],
            "description": "",
            "_model_name": "HTMLModel",
            "placeholder": "​",
            "_view_module": "@jupyter-widgets/controls",
            "_model_module_version": "1.5.0",
            "value": " 50/50 [00:40&lt;00:00,  1.27it/s]",
            "_view_count": null,
            "_view_module_version": "1.5.0",
            "description_tooltip": null,
            "_model_module": "@jupyter-widgets/controls",
            "layout": "IPY_MODEL_4aebd8b09367489fa50d1325f2bbb800"
          }
        },
        "8713bcd8d8b74a0d91f60f729c64baa2": {
          "model_module": "@jupyter-widgets/controls",
          "model_name": "ProgressStyleModel",
          "state": {
            "_view_name": "StyleView",
            "_model_name": "ProgressStyleModel",
            "description_width": "initial",
            "_view_module": "@jupyter-widgets/base",
            "_model_module_version": "1.5.0",
            "_view_count": null,
            "_view_module_version": "1.2.0",
            "bar_color": null,
            "_model_module": "@jupyter-widgets/controls"
          }
        },
        "079e578e8d9a445e8267a5a13b65c79f": {
          "model_module": "@jupyter-widgets/base",
          "model_name": "LayoutModel",
          "state": {
            "_view_name": "LayoutView",
            "grid_template_rows": null,
            "right": null,
            "justify_content": null,
            "_view_module": "@jupyter-widgets/base",
            "overflow": null,
            "_model_module_version": "1.2.0",
            "_view_count": null,
            "flex_flow": null,
            "width": null,
            "min_width": null,
            "border": null,
            "align_items": null,
            "bottom": null,
            "_model_module": "@jupyter-widgets/base",
            "top": null,
            "grid_column": null,
            "overflow_y": null,
            "overflow_x": null,
            "grid_auto_flow": null,
            "grid_area": null,
            "grid_template_columns": null,
            "flex": "2",
            "_model_name": "LayoutModel",
            "justify_items": null,
            "grid_row": null,
            "max_height": null,
            "align_content": null,
            "visibility": null,
            "align_self": null,
            "height": null,
            "min_height": null,
            "padding": null,
            "grid_auto_rows": null,
            "grid_gap": null,
            "max_width": null,
            "order": null,
            "_view_module_version": "1.2.0",
            "grid_template_areas": null,
            "object_position": null,
            "object_fit": null,
            "grid_auto_columns": null,
            "margin": null,
            "display": null,
            "left": null
          }
        },
        "088daed038c243e19bb91b6aafec2fa4": {
          "model_module": "@jupyter-widgets/controls",
          "model_name": "DescriptionStyleModel",
          "state": {
            "_view_name": "StyleView",
            "_model_name": "DescriptionStyleModel",
            "description_width": "",
            "_view_module": "@jupyter-widgets/base",
            "_model_module_version": "1.5.0",
            "_view_count": null,
            "_view_module_version": "1.2.0",
            "_model_module": "@jupyter-widgets/controls"
          }
        },
        "4aebd8b09367489fa50d1325f2bbb800": {
          "model_module": "@jupyter-widgets/base",
          "model_name": "LayoutModel",
          "state": {
            "_view_name": "LayoutView",
            "grid_template_rows": null,
            "right": null,
            "justify_content": null,
            "_view_module": "@jupyter-widgets/base",
            "overflow": null,
            "_model_module_version": "1.2.0",
            "_view_count": null,
            "flex_flow": null,
            "width": null,
            "min_width": null,
            "border": null,
            "align_items": null,
            "bottom": null,
            "_model_module": "@jupyter-widgets/base",
            "top": null,
            "grid_column": null,
            "overflow_y": null,
            "overflow_x": null,
            "grid_auto_flow": null,
            "grid_area": null,
            "grid_template_columns": null,
            "flex": null,
            "_model_name": "LayoutModel",
            "justify_items": null,
            "grid_row": null,
            "max_height": null,
            "align_content": null,
            "visibility": null,
            "align_self": null,
            "height": null,
            "min_height": null,
            "padding": null,
            "grid_auto_rows": null,
            "grid_gap": null,
            "max_width": null,
            "order": null,
            "_view_module_version": "1.2.0",
            "grid_template_areas": null,
            "object_position": null,
            "object_fit": null,
            "grid_auto_columns": null,
            "margin": null,
            "display": null,
            "left": null
          }
        }
      }
    }
  },
  "cells": [
    {
      "cell_type": "code",
      "metadata": {
        "id": "FIINI9knH6bf",
        "colab_type": "code",
        "colab": {
          "base_uri": "https://localhost:8080/",
          "height": 955
        },
        "outputId": "18e936be-acbf-4f83-822b-e51e580b84ff"
      },
      "source": [
        "!pip install numpy\n",
        "!pip install torch==1.5.1 torchvision==0.6.1\n",
        "!pip install pytorch_lightning==0.8.4\n",
        "!pip install comet-ml\n",
        "!pip install torchsummary"
      ],
      "execution_count": 1,
      "outputs": [
        {
          "output_type": "stream",
          "text": [
            "Requirement already satisfied: numpy in /usr/local/lib/python3.6/dist-packages (1.18.5)\n",
            "Requirement already satisfied: torch==1.5.1 in /usr/local/lib/python3.6/dist-packages (1.5.1+cu101)\n",
            "Requirement already satisfied: torchvision==0.6.1 in /usr/local/lib/python3.6/dist-packages (0.6.1+cu101)\n",
            "Requirement already satisfied: numpy in /usr/local/lib/python3.6/dist-packages (from torch==1.5.1) (1.18.5)\n",
            "Requirement already satisfied: future in /usr/local/lib/python3.6/dist-packages (from torch==1.5.1) (0.18.2)\n",
            "Requirement already satisfied: pillow>=4.1.1 in /usr/local/lib/python3.6/dist-packages (from torchvision==0.6.1) (7.0.0)\n",
            "Requirement already satisfied: pytorch_lightning==0.8.4 in /usr/local/lib/python3.6/dist-packages (0.8.4)\n",
            "Requirement already satisfied: future>=0.17.1 in /usr/local/lib/python3.6/dist-packages (from pytorch_lightning==0.8.4) (0.18.2)\n",
            "Requirement already satisfied: numpy>=1.15 in /usr/local/lib/python3.6/dist-packages (from pytorch_lightning==0.8.4) (1.18.5)\n",
            "Requirement already satisfied: PyYAML>=5.1 in /usr/local/lib/python3.6/dist-packages (from pytorch_lightning==0.8.4) (5.3.1)\n",
            "Requirement already satisfied: tensorboard>=1.14 in /usr/local/lib/python3.6/dist-packages (from pytorch_lightning==0.8.4) (2.2.2)\n",
            "Requirement already satisfied: torch>=1.3 in /usr/local/lib/python3.6/dist-packages (from pytorch_lightning==0.8.4) (1.5.1+cu101)\n",
            "Requirement already satisfied: tqdm>=4.41.0 in /usr/local/lib/python3.6/dist-packages (from pytorch_lightning==0.8.4) (4.41.1)\n",
            "Requirement already satisfied: werkzeug>=0.11.15 in /usr/local/lib/python3.6/dist-packages (from tensorboard>=1.14->pytorch_lightning==0.8.4) (1.0.1)\n",
            "Requirement already satisfied: markdown>=2.6.8 in /usr/local/lib/python3.6/dist-packages (from tensorboard>=1.14->pytorch_lightning==0.8.4) (3.2.2)\n",
            "Requirement already satisfied: google-auth-oauthlib<0.5,>=0.4.1 in /usr/local/lib/python3.6/dist-packages (from tensorboard>=1.14->pytorch_lightning==0.8.4) (0.4.1)\n",
            "Requirement already satisfied: setuptools>=41.0.0 in /usr/local/lib/python3.6/dist-packages (from tensorboard>=1.14->pytorch_lightning==0.8.4) (49.1.0)\n",
            "Requirement already satisfied: wheel>=0.26; python_version >= \"3\" in /usr/local/lib/python3.6/dist-packages (from tensorboard>=1.14->pytorch_lightning==0.8.4) (0.34.2)\n",
            "Requirement already satisfied: requests<3,>=2.21.0 in /usr/local/lib/python3.6/dist-packages (from tensorboard>=1.14->pytorch_lightning==0.8.4) (2.23.0)\n",
            "Requirement already satisfied: grpcio>=1.24.3 in /usr/local/lib/python3.6/dist-packages (from tensorboard>=1.14->pytorch_lightning==0.8.4) (1.30.0)\n",
            "Requirement already satisfied: six>=1.10.0 in /usr/local/lib/python3.6/dist-packages (from tensorboard>=1.14->pytorch_lightning==0.8.4) (1.15.0)\n",
            "Requirement already satisfied: tensorboard-plugin-wit>=1.6.0 in /usr/local/lib/python3.6/dist-packages (from tensorboard>=1.14->pytorch_lightning==0.8.4) (1.7.0)\n",
            "Requirement already satisfied: absl-py>=0.4 in /usr/local/lib/python3.6/dist-packages (from tensorboard>=1.14->pytorch_lightning==0.8.4) (0.9.0)\n",
            "Requirement already satisfied: protobuf>=3.6.0 in /usr/local/lib/python3.6/dist-packages (from tensorboard>=1.14->pytorch_lightning==0.8.4) (3.12.2)\n",
            "Requirement already satisfied: google-auth<2,>=1.6.3 in /usr/local/lib/python3.6/dist-packages (from tensorboard>=1.14->pytorch_lightning==0.8.4) (1.17.2)\n",
            "Requirement already satisfied: importlib-metadata; python_version < \"3.8\" in /usr/local/lib/python3.6/dist-packages (from markdown>=2.6.8->tensorboard>=1.14->pytorch_lightning==0.8.4) (1.7.0)\n",
            "Requirement already satisfied: requests-oauthlib>=0.7.0 in /usr/local/lib/python3.6/dist-packages (from google-auth-oauthlib<0.5,>=0.4.1->tensorboard>=1.14->pytorch_lightning==0.8.4) (1.3.0)\n",
            "Requirement already satisfied: certifi>=2017.4.17 in /usr/local/lib/python3.6/dist-packages (from requests<3,>=2.21.0->tensorboard>=1.14->pytorch_lightning==0.8.4) (2020.6.20)\n",
            "Requirement already satisfied: chardet<4,>=3.0.2 in /usr/local/lib/python3.6/dist-packages (from requests<3,>=2.21.0->tensorboard>=1.14->pytorch_lightning==0.8.4) (3.0.4)\n",
            "Requirement already satisfied: idna<3,>=2.5 in /usr/local/lib/python3.6/dist-packages (from requests<3,>=2.21.0->tensorboard>=1.14->pytorch_lightning==0.8.4) (2.10)\n",
            "Requirement already satisfied: urllib3!=1.25.0,!=1.25.1,<1.26,>=1.21.1 in /usr/local/lib/python3.6/dist-packages (from requests<3,>=2.21.0->tensorboard>=1.14->pytorch_lightning==0.8.4) (1.24.3)\n",
            "Requirement already satisfied: pyasn1-modules>=0.2.1 in /usr/local/lib/python3.6/dist-packages (from google-auth<2,>=1.6.3->tensorboard>=1.14->pytorch_lightning==0.8.4) (0.2.8)\n",
            "Requirement already satisfied: cachetools<5.0,>=2.0.0 in /usr/local/lib/python3.6/dist-packages (from google-auth<2,>=1.6.3->tensorboard>=1.14->pytorch_lightning==0.8.4) (4.1.1)\n",
            "Requirement already satisfied: rsa<5,>=3.1.4; python_version >= \"3\" in /usr/local/lib/python3.6/dist-packages (from google-auth<2,>=1.6.3->tensorboard>=1.14->pytorch_lightning==0.8.4) (4.6)\n",
            "Requirement already satisfied: zipp>=0.5 in /usr/local/lib/python3.6/dist-packages (from importlib-metadata; python_version < \"3.8\"->markdown>=2.6.8->tensorboard>=1.14->pytorch_lightning==0.8.4) (3.1.0)\n",
            "Requirement already satisfied: oauthlib>=3.0.0 in /usr/local/lib/python3.6/dist-packages (from requests-oauthlib>=0.7.0->google-auth-oauthlib<0.5,>=0.4.1->tensorboard>=1.14->pytorch_lightning==0.8.4) (3.1.0)\n",
            "Requirement already satisfied: pyasn1<0.5.0,>=0.4.6 in /usr/local/lib/python3.6/dist-packages (from pyasn1-modules>=0.2.1->google-auth<2,>=1.6.3->tensorboard>=1.14->pytorch_lightning==0.8.4) (0.4.8)\n",
            "Requirement already satisfied: comet-ml in /usr/local/lib/python3.6/dist-packages (3.1.14)\n",
            "Requirement already satisfied: wurlitzer>=1.0.2 in /usr/local/lib/python3.6/dist-packages (from comet-ml) (2.0.1)\n",
            "Requirement already satisfied: requests>=2.18.4 in /usr/local/lib/python3.6/dist-packages (from comet-ml) (2.23.0)\n",
            "Requirement already satisfied: jsonschema!=3.1.0,>=2.6.0 in /usr/local/lib/python3.6/dist-packages (from comet-ml) (2.6.0)\n",
            "Requirement already satisfied: wrapt>=1.11.2 in /usr/local/lib/python3.6/dist-packages (from comet-ml) (1.12.1)\n",
            "Requirement already satisfied: comet-git-pure>=0.19.11 in /usr/local/lib/python3.6/dist-packages (from comet-ml) (0.19.16)\n",
            "Requirement already satisfied: everett[ini]>=1.0.1; python_version >= \"3.0\" in /usr/local/lib/python3.6/dist-packages (from comet-ml) (1.0.2)\n",
            "Requirement already satisfied: six in /usr/local/lib/python3.6/dist-packages (from comet-ml) (1.15.0)\n",
            "Requirement already satisfied: nvidia-ml-py3>=7.352.0 in /usr/local/lib/python3.6/dist-packages (from comet-ml) (7.352.0)\n",
            "Requirement already satisfied: netifaces>=0.10.7 in /usr/local/lib/python3.6/dist-packages (from comet-ml) (0.10.9)\n",
            "Requirement already satisfied: websocket-client>=0.55.0 in /usr/local/lib/python3.6/dist-packages (from comet-ml) (0.57.0)\n",
            "Requirement already satisfied: certifi>=2017.4.17 in /usr/local/lib/python3.6/dist-packages (from requests>=2.18.4->comet-ml) (2020.6.20)\n",
            "Requirement already satisfied: urllib3!=1.25.0,!=1.25.1,<1.26,>=1.21.1 in /usr/local/lib/python3.6/dist-packages (from requests>=2.18.4->comet-ml) (1.24.3)\n",
            "Requirement already satisfied: chardet<4,>=3.0.2 in /usr/local/lib/python3.6/dist-packages (from requests>=2.18.4->comet-ml) (3.0.4)\n",
            "Requirement already satisfied: idna<3,>=2.5 in /usr/local/lib/python3.6/dist-packages (from requests>=2.18.4->comet-ml) (2.10)\n",
            "Requirement already satisfied: configobj; extra == \"ini\" in /usr/local/lib/python3.6/dist-packages (from everett[ini]>=1.0.1; python_version >= \"3.0\"->comet-ml) (5.0.6)\n",
            "Requirement already satisfied: torchsummary in /usr/local/lib/python3.6/dist-packages (1.5.1)\n"
          ],
          "name": "stdout"
        }
      ]
    },
    {
      "cell_type": "code",
      "metadata": {
        "id": "OAh4IqmMhR7v",
        "colab_type": "code",
        "colab": {
          "base_uri": "https://localhost:8080/",
          "height": 357
        },
        "outputId": "4d8e1e2d-39ff-4da5-f875-5cd10c90e1f7"
      },
      "source": [
        "gpu_info = !nvidia-smi\n",
        "gpu_info = '\\n'.join(gpu_info)\n",
        "if gpu_info.find('failed') >= 0:\n",
        "  print('Select the Runtime > \"Change runtime type\" menu to enable a GPU accelerator, ')\n",
        "  print('and then re-execute this cell.')\n",
        "else:\n",
        "  print(gpu_info)"
      ],
      "execution_count": 2,
      "outputs": [
        {
          "output_type": "stream",
          "text": [
            "Wed Jul 29 03:15:18 2020       \n",
            "+-----------------------------------------------------------------------------+\n",
            "| NVIDIA-SMI 450.51.05    Driver Version: 418.67       CUDA Version: 10.1     |\n",
            "|-------------------------------+----------------------+----------------------+\n",
            "| GPU  Name        Persistence-M| Bus-Id        Disp.A | Volatile Uncorr. ECC |\n",
            "| Fan  Temp  Perf  Pwr:Usage/Cap|         Memory-Usage | GPU-Util  Compute M. |\n",
            "|                               |                      |               MIG M. |\n",
            "|===============================+======================+======================|\n",
            "|   0  Tesla P100-PCIE...  Off  | 00000000:00:04.0 Off |                    0 |\n",
            "| N/A   39C    P0    26W / 250W |      0MiB / 16280MiB |      0%      Default |\n",
            "|                               |                      |                 ERR! |\n",
            "+-------------------------------+----------------------+----------------------+\n",
            "                                                                               \n",
            "+-----------------------------------------------------------------------------+\n",
            "| Processes:                                                                  |\n",
            "|  GPU   GI   CI        PID   Type   Process name                  GPU Memory |\n",
            "|        ID   ID                                                   Usage      |\n",
            "|=============================================================================|\n",
            "|  No running processes found                                                 |\n",
            "+-----------------------------------------------------------------------------+\n"
          ],
          "name": "stdout"
        }
      ]
    },
    {
      "cell_type": "code",
      "metadata": {
        "id": "F8z-2xiOJfjU",
        "colab_type": "code",
        "colab": {
          "base_uri": "https://localhost:8080/",
          "height": 34
        },
        "outputId": "56b56196-c3f0-4c0d-b586-d77a88120f9f"
      },
      "source": [
        "# Mount your personal google drive\n",
        "from google.colab import drive \n",
        "drive.mount('/content/drive')"
      ],
      "execution_count": 3,
      "outputs": [
        {
          "output_type": "stream",
          "text": [
            "Drive already mounted at /content/drive; to attempt to forcibly remount, call drive.mount(\"/content/drive\", force_remount=True).\n"
          ],
          "name": "stdout"
        }
      ]
    },
    {
      "cell_type": "code",
      "metadata": {
        "id": "DWeaVOxOXTrz",
        "colab_type": "code",
        "colab": {
          "base_uri": "https://localhost:8080/",
          "height": 34
        },
        "outputId": "920896fa-559b-4dd9-d89d-bb858dbc9f8f"
      },
      "source": [
        "%%writefile setup.sh\n",
        "\n",
        "export CUDA_HOME=/usr/local/cuda-10.1\n",
        "cd /content/drive/My\\ Drive/KBP_Challenge/apex\n",
        "ls\n",
        "pip install -v --no-cache-dir ./"
      ],
      "execution_count": 4,
      "outputs": [
        {
          "output_type": "stream",
          "text": [
            "Overwriting setup.sh\n"
          ],
          "name": "stdout"
        }
      ]
    },
    {
      "cell_type": "code",
      "metadata": {
        "id": "Ph-U-qcwYVlG",
        "colab_type": "code",
        "colab": {}
      },
      "source": [
        "# !sh setup.sh"
      ],
      "execution_count": 5,
      "outputs": []
    },
    {
      "cell_type": "code",
      "metadata": {
        "id": "NqH5U9ijJsZM",
        "colab_type": "code",
        "colab": {
          "base_uri": "https://localhost:8080/",
          "height": 68
        },
        "outputId": "9b07c917-ae5b-48a6-dae4-ffe2ba1da685"
      },
      "source": [
        "primary_directory = '/content/drive/My Drive/KBP_Challenge'\n",
        "%cd /content/drive/My\\ Drive/KBP_Challenge\n",
        "%ls"
      ],
      "execution_count": 6,
      "outputs": [
        {
          "output_type": "stream",
          "text": [
            "/content/drive/My Drive/KBP_Challenge\n",
            "\u001b[0m\u001b[01;34mapex\u001b[0m/         \u001b[01;34mdata\u001b[0m/            \u001b[01;34mpretrained_models\u001b[0m/  setup.sh\n",
            "\u001b[01;34mcheckpoints\u001b[0m/  \u001b[01;34mlightning_logs\u001b[0m/  \u001b[01;34mprovided_code\u001b[0m/      \u001b[01;34msrc\u001b[0m/\n"
          ],
          "name": "stdout"
        }
      ]
    },
    {
      "cell_type": "code",
      "metadata": {
        "id": "giEf8k-PIfjO",
        "colab_type": "code",
        "colab": {}
      },
      "source": [
        "import torch\n",
        "import pytorch_lightning as pl\n",
        "from pytorch_lightning.callbacks import LearningRateLogger\n",
        "from pytorch_lightning.logging import CometLogger\n",
        "from src.models.pix2pix_model import Pix2PixModel\n",
        "from src.models.wgan import WGan\n",
        "from pytorch_lightning.callbacks import ModelCheckpoint\n",
        "from src.options.train_options import TrainOptions\n",
        "from torchsummary import summary"
      ],
      "execution_count": 7,
      "outputs": []
    },
    {
      "cell_type": "code",
      "metadata": {
        "id": "k1ZwukaSW_gK",
        "colab_type": "code",
        "colab": {
          "base_uri": "https://localhost:8080/",
          "height": 1000
        },
        "outputId": "58838987-f117-4523-8ed3-857d5cb3cc85"
      },
      "source": [
        "args = ['--batchSize', '8',\n",
        "        '--primary_directory', primary_directory,\n",
        "        '--which_model_netG', 'unet_128_3d',\n",
        "        '--which_model_netD', 'n_layers_3d',\n",
        "        '--n_layers_D', '3',\n",
        "        '--num_D', '1',\n",
        "        '--norm_D', 'batch',\n",
        "        '--norm_G', 'batch',\n",
        "        '--resnet_depth', '18',\n",
        "        '--which_direction', 'AtoB',\n",
        "        '--input_nc', '1',\n",
        "        '--lambda_A', '100',\n",
        "        '--lr_policy', 'plateau',\n",
        "        '--epoch_count', '200',\n",
        "        '--load_epoch', '-1',\n",
        "        '--lr_D', '0.01',\n",
        "        '--lr_G', '0.01',\n",
        "        '--lr_max', '0.01',\n",
        "        '--lr_step_size', '25',\n",
        "        '--loss_function', 'smoothed_L1',\n",
        "        '--init_type', 'xavier',\n",
        "        '--no_scaling',\n",
        "        '--no_normalization',\n",
        "        '--no_perceptual_loss',\n",
        "        '--patience', '5',\n",
        "        '--n_critic', '1',\n",
        "        '--n_generator', '1',\n",
        "        '--cut_blur_mask', '40',\n",
        "        '--weight_cliping_limit', '0.01']\n",
        "\n",
        "opt = TrainOptions().parse(args)"
      ],
      "execution_count": 8,
      "outputs": [
        {
          "output_type": "stream",
          "text": [
            "------------ Options -------------\n",
            "batchSize: 8\n",
            "beta1: 0.5\n",
            "checkpoints_dir: ./checkpoints\n",
            "continue_train: False\n",
            "cut_blur_mask: 40\n",
            "dataset_mode: unaligned\n",
            "display_freq: 200\n",
            "display_id: 1\n",
            "display_port: 8097\n",
            "display_single_pane_ncols: 0\n",
            "display_winsize: 128\n",
            "epoch_count: 200\n",
            "fineSize: 128\n",
            "gpu_ids: -1\n",
            "init_type: xavier\n",
            "input_nc: 1\n",
            "inst_noise_sigma: 0.0\n",
            "inst_noise_sigma_iters: 200\n",
            "isTrain: True\n",
            "lambda_A: 100.0\n",
            "lambda_B: 10.0\n",
            "lambda_identity: 0.5\n",
            "lambda_perceptual: 10.0\n",
            "loadSize: 128\n",
            "load_epoch: -1\n",
            "loss_function: smoothed_L1\n",
            "lr_D: 0.01\n",
            "lr_G: 0.01\n",
            "lr_decay_iters: 50\n",
            "lr_max: 0.01\n",
            "lr_policy: plateau\n",
            "lr_step_size: 25\n",
            "max_dataset_size: inf\n",
            "model: pix2pix\n",
            "nThreads: 2\n",
            "n_critic: 1\n",
            "n_generator: 1\n",
            "n_layers_D: 3\n",
            "name: experiment_name\n",
            "ndf: 64\n",
            "ngf: 64\n",
            "niter: 100\n",
            "niter_decay: 100\n",
            "no_augment: False\n",
            "no_dropout: False\n",
            "no_flip: False\n",
            "no_html: False\n",
            "no_img: False\n",
            "no_lsgan: False\n",
            "no_normalization: True\n",
            "no_perceptual_loss: True\n",
            "no_scaling: True\n",
            "norm: batch_3d\n",
            "norm_D: batch\n",
            "norm_G: batch\n",
            "num_D: 1\n",
            "nwf: 64\n",
            "output_nc: 1\n",
            "patience: 5\n",
            "phase: train\n",
            "pool_size: 50\n",
            "primary_directory: /content/drive/My Drive/KBP_Challenge\n",
            "print_freq: 200\n",
            "resize_or_crop: resize_and_crop\n",
            "resnet_depth: 18\n",
            "save_epoch_freq: 5\n",
            "save_latest_freq: 5000\n",
            "serial_batches: False\n",
            "training_size: 100\n",
            "update_html_freq: 1000\n",
            "wasserstein: False\n",
            "weight_cliping_limit: 0.01\n",
            "which_direction: AtoB\n",
            "which_epoch: latest\n",
            "which_model_netD: n_layers_3d\n",
            "which_model_netG: unet_128_3d\n",
            "which_model_netW: resnet_temp\n",
            "-------------- End ----------------\n"
          ],
          "name": "stdout"
        }
      ]
    },
    {
      "cell_type": "code",
      "metadata": {
        "id": "OFn4g1biXAIX",
        "colab_type": "code",
        "colab": {
          "base_uri": "https://localhost:8080/",
          "height": 1000
        },
        "outputId": "97f2acc1-6b9f-4125-f9e6-2cd25a71f722"
      },
      "source": [
        "model = Pix2PixModel(opt, stage='training')\n",
        "summary(model.generator.to(\"cuda\"), (1, 128, 128, 128))"
      ],
      "execution_count": 9,
      "outputs": [
        {
          "output_type": "stream",
          "text": [
            "/content/drive/My Drive/KBP_Challenge/src/models/networks.py:38: UserWarning: nn.init.xavier_normal is now deprecated in favor of nn.init.xavier_normal_.\n",
            "  init.xavier_normal(m.weight.data, gain=0.02)\n"
          ],
          "name": "stderr"
        },
        {
          "output_type": "stream",
          "text": [
            "----------------------------------------------------------------\n",
            "        Layer (type)               Output Shape         Param #\n",
            "================================================================\n",
            "            Conv3d-1       [-1, 64, 64, 64, 64]           4,096\n",
            "         LeakyReLU-2       [-1, 64, 64, 64, 64]               0\n",
            "            Conv3d-3      [-1, 128, 32, 32, 32]         524,288\n",
            "       BatchNorm3d-4      [-1, 128, 32, 32, 32]             256\n",
            "         LeakyReLU-5      [-1, 128, 32, 32, 32]               0\n",
            "            Conv3d-6      [-1, 256, 16, 16, 16]       2,097,152\n",
            "       BatchNorm3d-7      [-1, 256, 16, 16, 16]             512\n",
            "         LeakyReLU-8      [-1, 256, 16, 16, 16]               0\n",
            "            Conv3d-9         [-1, 512, 8, 8, 8]       8,388,608\n",
            "      BatchNorm3d-10         [-1, 512, 8, 8, 8]           1,024\n",
            "        LeakyReLU-11         [-1, 512, 8, 8, 8]               0\n",
            "           Conv3d-12         [-1, 512, 4, 4, 4]      16,777,216\n",
            "      BatchNorm3d-13         [-1, 512, 4, 4, 4]           1,024\n",
            "        LeakyReLU-14         [-1, 512, 4, 4, 4]               0\n",
            "           Conv3d-15         [-1, 512, 2, 2, 2]      16,777,216\n",
            "      BatchNorm3d-16         [-1, 512, 2, 2, 2]           1,024\n",
            "        LeakyReLU-17         [-1, 512, 2, 2, 2]               0\n",
            "           Conv3d-18         [-1, 512, 1, 1, 1]      16,777,216\n",
            "             ReLU-19         [-1, 512, 1, 1, 1]               0\n",
            "  ConvTranspose3d-20         [-1, 512, 2, 2, 2]      16,777,216\n",
            "      BatchNorm3d-21         [-1, 512, 2, 2, 2]           1,024\n",
            "UnetSkipConnectionBlock-22        [-1, 1024, 2, 2, 2]               0\n",
            "             ReLU-23        [-1, 1024, 2, 2, 2]               0\n",
            "  ConvTranspose3d-24         [-1, 512, 4, 4, 4]      33,554,432\n",
            "      BatchNorm3d-25         [-1, 512, 4, 4, 4]           1,024\n",
            "          Dropout-26         [-1, 512, 4, 4, 4]               0\n",
            "UnetSkipConnectionBlock-27        [-1, 1024, 4, 4, 4]               0\n",
            "             ReLU-28        [-1, 1024, 4, 4, 4]               0\n",
            "  ConvTranspose3d-29         [-1, 512, 8, 8, 8]      33,554,432\n",
            "      BatchNorm3d-30         [-1, 512, 8, 8, 8]           1,024\n",
            "          Dropout-31         [-1, 512, 8, 8, 8]               0\n",
            "UnetSkipConnectionBlock-32        [-1, 1024, 8, 8, 8]               0\n",
            "             ReLU-33        [-1, 1024, 8, 8, 8]               0\n",
            "  ConvTranspose3d-34      [-1, 256, 16, 16, 16]      16,777,216\n",
            "      BatchNorm3d-35      [-1, 256, 16, 16, 16]             512\n",
            "UnetSkipConnectionBlock-36      [-1, 512, 16, 16, 16]               0\n",
            "             ReLU-37      [-1, 512, 16, 16, 16]               0\n",
            "  ConvTranspose3d-38      [-1, 128, 32, 32, 32]       4,194,304\n",
            "      BatchNorm3d-39      [-1, 128, 32, 32, 32]             256\n",
            "UnetSkipConnectionBlock-40      [-1, 256, 32, 32, 32]               0\n",
            "             ReLU-41      [-1, 256, 32, 32, 32]               0\n",
            "  ConvTranspose3d-42       [-1, 64, 64, 64, 64]       1,048,576\n",
            "      BatchNorm3d-43       [-1, 64, 64, 64, 64]             128\n",
            "UnetSkipConnectionBlock-44      [-1, 128, 64, 64, 64]               0\n",
            "             ReLU-45      [-1, 128, 64, 64, 64]               0\n",
            "  ConvTranspose3d-46     [-1, 1, 128, 128, 128]           8,193\n",
            "UnetSkipConnectionBlock-47     [-1, 1, 128, 128, 128]               0\n",
            "================================================================\n",
            "Total params: 167,267,969\n",
            "Trainable params: 167,267,969\n",
            "Non-trainable params: 0\n",
            "----------------------------------------------------------------\n",
            "Input size (MB): 8.00\n",
            "Forward/backward pass size (MB): 1438.79\n",
            "Params size (MB): 638.08\n",
            "Estimated Total Size (MB): 2084.87\n",
            "----------------------------------------------------------------\n"
          ],
          "name": "stdout"
        }
      ]
    },
    {
      "cell_type": "code",
      "metadata": {
        "id": "bAvG2acqsuGm",
        "colab_type": "code",
        "colab": {
          "base_uri": "https://localhost:8080/",
          "height": 34
        },
        "outputId": "f61245f7-933e-44e3-ef2c-aacd8eb9848e"
      },
      "source": [
        "checkpoints_dir = '{}/checkpoints'.format(primary_directory)\n",
        "checkpoint_callback = ModelCheckpoint(\n",
        "    filepath=checkpoints_dir,\n",
        "    verbose=True,\n",
        "    save_last=False,\n",
        "    save_top_k=0,\n",
        "    monitor='loss',\n",
        "    mode='min'\n",
        ")\n",
        "lr_logger = LearningRateLogger()\n",
        "\n",
        "comet_logger = CometLogger(\n",
        "    api_key=\"eyAsnp1KA7fXLxFMkEWKjhygS\",\n",
        "    project_name=\"kbp-challenge\",\n",
        "    workspace=\"mahruskazi\"\n",
        ")"
      ],
      "execution_count": 10,
      "outputs": [
        {
          "output_type": "stream",
          "text": [
            "CometLogger will be initialized in online mode\n"
          ],
          "name": "stderr"
        }
      ]
    },
    {
      "cell_type": "code",
      "metadata": {
        "id": "uir6ekoTKpqt",
        "colab_type": "code",
        "colab": {
          "base_uri": "https://localhost:8080/",
          "height": 1000,
          "referenced_widgets": [
            "baf7932bd1f745c1869ec3cf66975e39",
            "15cb308a16bb46e3a7d4ddfc76da591a",
            "a84d113617ef451482dba68ef15f3ddc",
            "07747d4a15c04c3ca0317c4caec71cfa",
            "91d2cfa8ce6f493a9cef6e5d32b7b40a",
            "4b0d790a23c745bfb5829d1b9f6ad972",
            "c08eca0bc7874eac90b52ecbf0d8a7aa",
            "12d3729445314ff7bdb734d38ca878e8",
            "8ba7a7497ae84d708e3e32426d7116e3",
            "34dacb8c5ea245ada25599083f6c9355",
            "ce2935cf4a504499974e10f4d639279f",
            "64abe7682f064c168ba8fed06e26ef03",
            "fe53eda2cc994327bbc76ce333b1e42e",
            "06a1ded309b84d49add3830498f4c97b",
            "a6a474ba0a4e4e26bb45555a173c75f5",
            "a6a6da8ef4a04469bacc6ca941f7193b",
            "c0abc4089fb941d1bbc8ab6e3db08ec5",
            "5f088ed9d0654ad4b002606e07beaacb",
            "25d026bababc4b83bbc29b1b1f60a578",
            "60aeafcf7bab4026bf2a37ded33d0cb2",
            "8713bcd8d8b74a0d91f60f729c64baa2",
            "079e578e8d9a445e8267a5a13b65c79f",
            "088daed038c243e19bb91b6aafec2fa4",
            "4aebd8b09367489fa50d1325f2bbb800"
          ]
        },
        "outputId": "f1a42268-47d6-4740-9691-f19a41eac657"
      },
      "source": [
        "checkpoint = None\n",
        "if opt.load_epoch != -1:\n",
        "  checkpoint = '{}/epoch={}.ckpt'.format(checkpoints_dir, opt.load_epoch)\n",
        "\n",
        "trainer = pl.Trainer(logger=comet_logger,\n",
        "                     resume_from_checkpoint=checkpoint,\n",
        "                     gpus=1,\n",
        "                     checkpoint_callback=checkpoint_callback,\n",
        "                     callbacks=[lr_logger],\n",
        "                     max_epochs=opt.epoch_count,\n",
        "                     check_val_every_n_epoch=1,\n",
        "                     num_sanity_val_steps=10,\n",
        "                     limit_val_batches=1.0,\n",
        "                     accumulate_grad_batches=1,\n",
        "                     weights_summary='full')\n",
        "trainer.fit(model)"
      ],
      "execution_count": null,
      "outputs": [
        {
          "output_type": "stream",
          "text": [
            "GPU available: True, used: True\n",
            "TPU available: False, using: 0 TPU cores\n",
            "CUDA_VISIBLE_DEVICES: [0]\n",
            "/usr/local/lib/python3.6/dist-packages/pytorch_lightning/utilities/distributed.py:25: RuntimeWarning: You have defined a `test_dataloader()` and have defined a `test_step()`, you may also want to define `test_epoch_end()` for accumulating stats.\n",
            "  warnings.warn(*args, **kwargs)\n",
            "COMET INFO: Experiment is live on comet.ml https://www.comet.ml/mahruskazi/kbp-challenge/64bf7e3e1d854314b28b87091f9b4534\n",
            "\n",
            "\n",
            "   | Name                                                                    | Type                    | Params\n",
            "---------------------------------------------------------------------------------------------------------------------\n",
            "0  | generator                                                               | UnetGenerator           | 167 M \n",
            "1  | generator.model                                                         | UnetSkipConnectionBlock | 167 M \n",
            "2  | generator.model.model                                                   | Sequential              | 167 M \n",
            "3  | generator.model.model.0                                                 | Conv3d                  | 4 K   \n",
            "4  | generator.model.model.1                                                 | UnetSkipConnectionBlock | 167 M \n",
            "5  | generator.model.model.1.model                                           | Sequential              | 167 M \n",
            "6  | generator.model.model.1.model.0                                         | LeakyReLU               | 0     \n",
            "7  | generator.model.model.1.model.1                                         | Conv3d                  | 524 K \n",
            "8  | generator.model.model.1.model.2                                         | BatchNorm3d             | 256   \n",
            "9  | generator.model.model.1.model.3                                         | UnetSkipConnectionBlock | 165 M \n",
            "10 | generator.model.model.1.model.3.model                                   | Sequential              | 165 M \n",
            "11 | generator.model.model.1.model.3.model.0                                 | LeakyReLU               | 0     \n",
            "12 | generator.model.model.1.model.3.model.1                                 | Conv3d                  | 2 M   \n",
            "13 | generator.model.model.1.model.3.model.2                                 | BatchNorm3d             | 512   \n",
            "14 | generator.model.model.1.model.3.model.3                                 | UnetSkipConnectionBlock | 159 M \n",
            "15 | generator.model.model.1.model.3.model.3.model                           | Sequential              | 159 M \n",
            "16 | generator.model.model.1.model.3.model.3.model.0                         | LeakyReLU               | 0     \n",
            "17 | generator.model.model.1.model.3.model.3.model.1                         | Conv3d                  | 8 M   \n",
            "18 | generator.model.model.1.model.3.model.3.model.2                         | BatchNorm3d             | 1 K   \n",
            "19 | generator.model.model.1.model.3.model.3.model.3                         | UnetSkipConnectionBlock | 134 M \n",
            "20 | generator.model.model.1.model.3.model.3.model.3.model                   | Sequential              | 134 M \n",
            "21 | generator.model.model.1.model.3.model.3.model.3.model.0                 | LeakyReLU               | 0     \n",
            "22 | generator.model.model.1.model.3.model.3.model.3.model.1                 | Conv3d                  | 16 M  \n",
            "23 | generator.model.model.1.model.3.model.3.model.3.model.2                 | BatchNorm3d             | 1 K   \n",
            "24 | generator.model.model.1.model.3.model.3.model.3.model.3                 | UnetSkipConnectionBlock | 83 M  \n",
            "25 | generator.model.model.1.model.3.model.3.model.3.model.3.model           | Sequential              | 83 M  \n",
            "26 | generator.model.model.1.model.3.model.3.model.3.model.3.model.0         | LeakyReLU               | 0     \n",
            "27 | generator.model.model.1.model.3.model.3.model.3.model.3.model.1         | Conv3d                  | 16 M  \n",
            "28 | generator.model.model.1.model.3.model.3.model.3.model.3.model.2         | BatchNorm3d             | 1 K   \n",
            "29 | generator.model.model.1.model.3.model.3.model.3.model.3.model.3         | UnetSkipConnectionBlock | 33 M  \n",
            "30 | generator.model.model.1.model.3.model.3.model.3.model.3.model.3.model   | Sequential              | 33 M  \n",
            "31 | generator.model.model.1.model.3.model.3.model.3.model.3.model.3.model.0 | LeakyReLU               | 0     \n",
            "32 | generator.model.model.1.model.3.model.3.model.3.model.3.model.3.model.1 | Conv3d                  | 16 M  \n",
            "33 | generator.model.model.1.model.3.model.3.model.3.model.3.model.3.model.2 | ReLU                    | 0     \n",
            "34 | generator.model.model.1.model.3.model.3.model.3.model.3.model.3.model.3 | ConvTranspose3d         | 16 M  \n",
            "35 | generator.model.model.1.model.3.model.3.model.3.model.3.model.3.model.4 | BatchNorm3d             | 1 K   \n",
            "36 | generator.model.model.1.model.3.model.3.model.3.model.3.model.4         | ReLU                    | 0     \n",
            "37 | generator.model.model.1.model.3.model.3.model.3.model.3.model.5         | ConvTranspose3d         | 33 M  \n",
            "38 | generator.model.model.1.model.3.model.3.model.3.model.3.model.6         | BatchNorm3d             | 1 K   \n",
            "39 | generator.model.model.1.model.3.model.3.model.3.model.3.model.7         | Dropout                 | 0     \n",
            "40 | generator.model.model.1.model.3.model.3.model.3.model.4                 | ReLU                    | 0     \n",
            "41 | generator.model.model.1.model.3.model.3.model.3.model.5                 | ConvTranspose3d         | 33 M  \n",
            "42 | generator.model.model.1.model.3.model.3.model.3.model.6                 | BatchNorm3d             | 1 K   \n",
            "43 | generator.model.model.1.model.3.model.3.model.3.model.7                 | Dropout                 | 0     \n",
            "44 | generator.model.model.1.model.3.model.3.model.4                         | ReLU                    | 0     \n",
            "45 | generator.model.model.1.model.3.model.3.model.5                         | ConvTranspose3d         | 16 M  \n",
            "46 | generator.model.model.1.model.3.model.3.model.6                         | BatchNorm3d             | 512   \n",
            "47 | generator.model.model.1.model.3.model.4                                 | ReLU                    | 0     \n",
            "48 | generator.model.model.1.model.3.model.5                                 | ConvTranspose3d         | 4 M   \n",
            "49 | generator.model.model.1.model.3.model.6                                 | BatchNorm3d             | 256   \n",
            "50 | generator.model.model.1.model.4                                         | ReLU                    | 0     \n",
            "51 | generator.model.model.1.model.5                                         | ConvTranspose3d         | 1 M   \n",
            "52 | generator.model.model.1.model.6                                         | BatchNorm3d             | 128   \n",
            "53 | generator.model.model.2                                                 | ReLU                    | 0     \n",
            "54 | generator.model.model.3                                                 | ConvTranspose3d         | 8 K   \n",
            "55 | discriminator                                                           | NLayerDiscriminator     | 2 M   \n",
            "56 | discriminator.model                                                     | Sequential              | 2 M   \n",
            "57 | discriminator.model.0                                                   | Conv3d                  | 8 K   \n",
            "58 | discriminator.model.1                                                   | LeakyReLU               | 0     \n",
            "59 | discriminator.model.2                                                   | Conv3d                  | 524 K \n",
            "60 | discriminator.model.3                                                   | BatchNorm3d             | 256   \n",
            "61 | discriminator.model.4                                                   | LeakyReLU               | 0     \n",
            "62 | discriminator.model.5                                                   | Conv3d                  | 2 M   \n",
            "63 | discriminator.model.6                                                   | BatchNorm3d             | 512   \n",
            "64 | discriminator.model.7                                                   | LeakyReLU               | 0     \n",
            "65 | discriminator.model.8                                                   | Conv3d                  | 16 K  \n",
            "66 | criterionGAN                                                            | GANLoss                 | 0     \n",
            "67 | criterionGAN.loss                                                       | MSELoss                 | 0     \n",
            "68 | criterionFeat                                                           | SmoothL1Loss            | 0     \n"
          ],
          "name": "stderr"
        },
        {
          "output_type": "stream",
          "text": [
            "Number of validation patients: 50\n"
          ],
          "name": "stdout"
        },
        {
          "output_type": "stream",
          "text": [
            "/usr/local/lib/python3.6/dist-packages/pytorch_lightning/utilities/distributed.py:25: UserWarning: The dataloader, val dataloader 0, does not have many workers which may be a bottleneck. Consider increasing the value of the `num_workers` argument` (try 2 which is the number of cpus on this machine) in the `DataLoader` init to improve performance.\n",
            "  warnings.warn(*args, **kwargs)\n"
          ],
          "name": "stderr"
        },
        {
          "output_type": "display_data",
          "data": {
            "application/vnd.jupyter.widget-view+json": {
              "model_id": "baf7932bd1f745c1869ec3cf66975e39",
              "version_minor": 0,
              "version_major": 2
            },
            "text/plain": [
              "HBox(children=(FloatProgress(value=1.0, bar_style='info', description='Validation sanity check', layout=Layout…"
            ]
          },
          "metadata": {
            "tags": []
          }
        },
        {
          "output_type": "stream",
          "text": [
            "100%|██████████| 10/10 [00:07<00:00,  1.32it/s]"
          ],
          "name": "stderr"
        },
        {
          "output_type": "stream",
          "text": [
            "{'dvh_score': 48.634659871437954, 'dose_score': 22.686427216751973}\n",
            "\rNumber of training patients: 150\n",
            "Number of validation patients: 50\n"
          ],
          "name": "stdout"
        },
        {
          "output_type": "stream",
          "text": [
            "\n",
            "/usr/local/lib/python3.6/dist-packages/pytorch_lightning/utilities/distributed.py:25: UserWarning: The dataloader, train dataloader, does not have many workers which may be a bottleneck. Consider increasing the value of the `num_workers` argument` (try 2 which is the number of cpus on this machine) in the `DataLoader` init to improve performance.\n",
            "  warnings.warn(*args, **kwargs)\n"
          ],
          "name": "stderr"
        },
        {
          "output_type": "display_data",
          "data": {
            "application/vnd.jupyter.widget-view+json": {
              "model_id": "8ba7a7497ae84d708e3e32426d7116e3",
              "version_minor": 0,
              "version_major": 2
            },
            "text/plain": [
              "HBox(children=(FloatProgress(value=1.0, bar_style='info', description='Training', layout=Layout(flex='2'), max…"
            ]
          },
          "metadata": {
            "tags": []
          }
        },
        {
          "output_type": "display_data",
          "data": {
            "application/vnd.jupyter.widget-view+json": {
              "model_id": "c0abc4089fb941d1bbc8ab6e3db08ec5",
              "version_minor": 0,
              "version_major": 2
            },
            "text/plain": [
              "HBox(children=(FloatProgress(value=1.0, bar_style='info', description='Validating', layout=Layout(flex='2'), m…"
            ]
          },
          "metadata": {
            "tags": []
          }
        },
        {
          "output_type": "stream",
          "text": [
            " 32%|███▏      | 16/50 [00:11<00:24,  1.39it/s]"
          ],
          "name": "stderr"
        }
      ]
    }
  ]
}